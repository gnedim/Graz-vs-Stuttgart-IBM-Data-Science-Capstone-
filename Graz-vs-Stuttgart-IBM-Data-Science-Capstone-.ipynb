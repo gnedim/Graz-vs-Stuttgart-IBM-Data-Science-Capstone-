{
 "cells": [
  {
   "cell_type": "markdown",
   "metadata": {},
   "source": [
    "## Data Collection and Data Cleaning"
   ]
  },
  {
   "cell_type": "markdown",
   "metadata": {},
   "source": [
    "### Finding data for Graz, Austria"
   ]
  },
  {
   "cell_type": "markdown",
   "metadata": {},
   "source": [
    "#### Instaling and importing Beatifull Soup for Web Scraping"
   ]
  },
  {
   "cell_type": "code",
   "execution_count": 1,
   "metadata": {},
   "outputs": [
    {
     "name": "stdout",
     "output_type": "stream",
     "text": [
      "Requirement already satisfied: beautifulsoup4 in c:\\users\\gaj\\appdata\\local\\continuum\\anaconda3\\lib\\site-packages (4.6.3)\n"
     ]
    }
   ],
   "source": [
    "!pip install beautifulsoup4"
   ]
  },
  {
   "cell_type": "code",
   "execution_count": 2,
   "metadata": {},
   "outputs": [],
   "source": [
    "from bs4 import BeautifulSoup\n",
    "import requests\n",
    "import pandas as pd"
   ]
  },
  {
   "cell_type": "markdown",
   "metadata": {},
   "source": [
    "__Web scraping__"
   ]
  },
  {
   "cell_type": "markdown",
   "metadata": {},
   "source": [
    "On a website https://www.graz.at/cms/beitrag/10034856/7769112/Die_Bezirke.html there are zip codes for all boroughs in city of Graz in Austria\n"
   ]
  },
  {
   "cell_type": "code",
   "execution_count": 3,
   "metadata": {},
   "outputs": [],
   "source": [
    "#requesting a url\n",
    "\n",
    "url = requests.get(\"https://www.graz.at/cms/beitrag/10034856/7769112/Die_Bezirke.html\")\n",
    "url = url.content"
   ]
  },
  {
   "cell_type": "code",
   "execution_count": 4,
   "metadata": {},
   "outputs": [],
   "source": [
    "#web scraping with beautifulsoup\n",
    "soup = BeautifulSoup(url, 'html.parser')"
   ]
  },
  {
   "cell_type": "code",
   "execution_count": 5,
   "metadata": {},
   "outputs": [],
   "source": [
    "table = soup.find_all('div', {'class':\"txtblock-content standard\"})"
   ]
  },
  {
   "cell_type": "code",
   "execution_count": 6,
   "metadata": {},
   "outputs": [],
   "source": [
    "table = table[0]\n",
    "table = table.ol"
   ]
  },
  {
   "cell_type": "code",
   "execution_count": 7,
   "metadata": {},
   "outputs": [
    {
     "data": {
      "text/plain": [
       "['', '1,16', 'Quadratkilometer,', '3.899', '(3.933)', 'EinwohnerInnen']"
      ]
     },
     "execution_count": 7,
     "metadata": {},
     "output_type": "execute_result"
    }
   ],
   "source": [
    "gplz_list = []\n",
    "lis = table.find_all(\"li\")\n",
    "a = lis[0].text.strip().split(\":\")\n",
    "a[1].split(\" \")"
   ]
  },
  {
   "cell_type": "code",
   "execution_count": 8,
   "metadata": {},
   "outputs": [],
   "source": [
    "for li in lis:\n",
    "    l = li.text.strip().split(\":\")\n",
    "    gplz_list.append(l)\n"
   ]
  },
  {
   "cell_type": "code",
   "execution_count": 9,
   "metadata": {},
   "outputs": [
    {
     "data": {
      "text/plain": [
       "[' 1,16 Quadratkilometer, 3.899 (3.933) EinwohnerInnen',\n",
       " ' 1,83 Quadratkilometer, 16.235 (16.123) EinwohnerInnen',\n",
       " ' 5,50 Quadratkilometer, 25.300 (24.990) EinwohnerInnen',\n",
       " ' 3,70 Quadratkilometer, 30.966 (30.891) EinwohnerInnen',\n",
       " ' 5,05 Quadratkilometer, 28.735 (27.732) EinwohnerInnen',\n",
       " ' 4,06 Quadratkilometer, 33.283 (33.082) EinwohnerInnen',\n",
       " ' 7,99 Quadratkilometer, 14.417 (14.170) EinwohnerInnen',\n",
       " ' 8,86 Quadratkilometer, 15.139 (14.937) EinwohnerInnen',\n",
       " ' 4,48 Quadratkilometer, 11.906 (11.869) EinwohnerInnen',\n",
       " ' 10,16 Quadratkilometer,\\xa0 5.910 (5.886) EinwohnerInnen',\n",
       " ' 13,99 Quadratkilometer, 9.756 (9.647) EinwohnerInnen',\n",
       " ' 18,47 Quadratkilometer, 19.197 (19.022) EinwohnerInnen',\n",
       " ' 10,83 Quadratkilometer, 11.129 (10.900) EinwohnerInnen',\n",
       " ' 7,79 Quadratkilometer, 20.553 (20.075) EinwohnerInnen',\n",
       " ' 5,77 Quadratkilometer, 15.630 (15.215) EinwohnerInnen',\n",
       " ' 11,75 Quadratkilometer, 16.003 (15.590) EinwohnerInnen',\n",
       " ' 6,18 Quadratkilometer, 8.628 (8.417) EinwohnerInnen']"
      ]
     },
     "execution_count": 9,
     "metadata": {},
     "output_type": "execute_result"
    }
   ],
   "source": [
    "plz_city = []\n",
    "area_num = []\n",
    "for plz in gplz_list:\n",
    "    plz_city.append(plz[0])\n",
    "    area_num.append(plz[1])\n",
    "plz_city\n",
    "area_num"
   ]
  },
  {
   "cell_type": "code",
   "execution_count": 10,
   "metadata": {},
   "outputs": [],
   "source": [
    "plz = [plz[0:4] for plz in plz_city]\n",
    "borough = [bor[4:].strip() for bor in plz_city]"
   ]
  },
  {
   "cell_type": "code",
   "execution_count": 11,
   "metadata": {},
   "outputs": [],
   "source": [
    "area_num = [are.split(\" \") for are in area_num]\n",
    "area = []\n",
    "population = []"
   ]
  },
  {
   "cell_type": "code",
   "execution_count": 12,
   "metadata": {},
   "outputs": [
    {
     "data": {
      "text/plain": [
       "[1.16,\n",
       " 1.83,\n",
       " 5.5,\n",
       " 3.7,\n",
       " 5.05,\n",
       " 4.06,\n",
       " 7.99,\n",
       " 8.86,\n",
       " 4.48,\n",
       " 10.16,\n",
       " 13.99,\n",
       " 18.47,\n",
       " 10.83,\n",
       " 7.79,\n",
       " 5.77,\n",
       " 11.75,\n",
       " 6.18]"
      ]
     },
     "execution_count": 12,
     "metadata": {},
     "output_type": "execute_result"
    }
   ],
   "source": [
    "#geting the area of borouhg\n",
    "for are in area_num:\n",
    "    area.append(float(are[1].replace(\",\",\".\")))\n",
    "area"
   ]
  },
  {
   "cell_type": "code",
   "execution_count": 13,
   "metadata": {},
   "outputs": [
    {
     "data": {
      "text/plain": [
       "[3899,\n",
       " 16235,\n",
       " 25300,\n",
       " 30966,\n",
       " 28735,\n",
       " 33283,\n",
       " 14417,\n",
       " 15139,\n",
       " 11906,\n",
       " 5910,\n",
       " 9756,\n",
       " 19197,\n",
       " 11129,\n",
       " 20553,\n",
       " 15630,\n",
       " 16003,\n",
       " 8628]"
      ]
     },
     "execution_count": 13,
     "metadata": {},
     "output_type": "execute_result"
    }
   ],
   "source": [
    "#geting the population of borough\n",
    "for pop in area_num:\n",
    "    population.append(int(pop[3].replace(\".\",\"\")))\n",
    "population"
   ]
  },
  {
   "cell_type": "markdown",
   "metadata": {},
   "source": [
    "### Making Pandas Dataframe from Scraped Data"
   ]
  },
  {
   "cell_type": "code",
   "execution_count": 14,
   "metadata": {},
   "outputs": [],
   "source": [
    "graz = pd.DataFrame({'Post Code':plz, 'Borough':borough, 'Area [km2]':area, 'Population':population })"
   ]
  },
  {
   "cell_type": "code",
   "execution_count": 15,
   "metadata": {},
   "outputs": [
    {
     "data": {
      "text/html": [
       "<div>\n",
       "<style scoped>\n",
       "    .dataframe tbody tr th:only-of-type {\n",
       "        vertical-align: middle;\n",
       "    }\n",
       "\n",
       "    .dataframe tbody tr th {\n",
       "        vertical-align: top;\n",
       "    }\n",
       "\n",
       "    .dataframe thead th {\n",
       "        text-align: right;\n",
       "    }\n",
       "</style>\n",
       "<table border=\"1\" class=\"dataframe\">\n",
       "  <thead>\n",
       "    <tr style=\"text-align: right;\">\n",
       "      <th></th>\n",
       "      <th>Post Code</th>\n",
       "      <th>Borough</th>\n",
       "      <th>Area [km2]</th>\n",
       "      <th>Population</th>\n",
       "    </tr>\n",
       "  </thead>\n",
       "  <tbody>\n",
       "    <tr>\n",
       "      <th>0</th>\n",
       "      <td>8010</td>\n",
       "      <td>Innere Stadt</td>\n",
       "      <td>1.16</td>\n",
       "      <td>3899</td>\n",
       "    </tr>\n",
       "    <tr>\n",
       "      <th>1</th>\n",
       "      <td>8010</td>\n",
       "      <td>St. Leonhard</td>\n",
       "      <td>1.83</td>\n",
       "      <td>16235</td>\n",
       "    </tr>\n",
       "    <tr>\n",
       "      <th>2</th>\n",
       "      <td>8010</td>\n",
       "      <td>Geidorf</td>\n",
       "      <td>5.50</td>\n",
       "      <td>25300</td>\n",
       "    </tr>\n",
       "    <tr>\n",
       "      <th>3</th>\n",
       "      <td>8020</td>\n",
       "      <td>Lend</td>\n",
       "      <td>3.70</td>\n",
       "      <td>30966</td>\n",
       "    </tr>\n",
       "    <tr>\n",
       "      <th>4</th>\n",
       "      <td>8020</td>\n",
       "      <td>Gries</td>\n",
       "      <td>5.05</td>\n",
       "      <td>28735</td>\n",
       "    </tr>\n",
       "    <tr>\n",
       "      <th>5</th>\n",
       "      <td>8010</td>\n",
       "      <td>Jakomini</td>\n",
       "      <td>4.06</td>\n",
       "      <td>33283</td>\n",
       "    </tr>\n",
       "    <tr>\n",
       "      <th>6</th>\n",
       "      <td>8041</td>\n",
       "      <td>Liebenau</td>\n",
       "      <td>7.99</td>\n",
       "      <td>14417</td>\n",
       "    </tr>\n",
       "    <tr>\n",
       "      <th>7</th>\n",
       "      <td>8042</td>\n",
       "      <td>St. Peter</td>\n",
       "      <td>8.86</td>\n",
       "      <td>15139</td>\n",
       "    </tr>\n",
       "    <tr>\n",
       "      <th>8</th>\n",
       "      <td>8010</td>\n",
       "      <td>Waltendorf</td>\n",
       "      <td>4.48</td>\n",
       "      <td>11906</td>\n",
       "    </tr>\n",
       "    <tr>\n",
       "      <th>9</th>\n",
       "      <td>8010</td>\n",
       "      <td>Ries</td>\n",
       "      <td>10.16</td>\n",
       "      <td>5910</td>\n",
       "    </tr>\n",
       "    <tr>\n",
       "      <th>10</th>\n",
       "      <td>8043</td>\n",
       "      <td>Mariatrost</td>\n",
       "      <td>13.99</td>\n",
       "      <td>9756</td>\n",
       "    </tr>\n",
       "    <tr>\n",
       "      <th>11</th>\n",
       "      <td>8045</td>\n",
       "      <td>Andritz</td>\n",
       "      <td>18.47</td>\n",
       "      <td>19197</td>\n",
       "    </tr>\n",
       "    <tr>\n",
       "      <th>12</th>\n",
       "      <td>8051</td>\n",
       "      <td>Gösting</td>\n",
       "      <td>10.83</td>\n",
       "      <td>11129</td>\n",
       "    </tr>\n",
       "    <tr>\n",
       "      <th>13</th>\n",
       "      <td>8020</td>\n",
       "      <td>Eggenberg</td>\n",
       "      <td>7.79</td>\n",
       "      <td>20553</td>\n",
       "    </tr>\n",
       "    <tr>\n",
       "      <th>14</th>\n",
       "      <td>8052</td>\n",
       "      <td>Wetzelsdorf</td>\n",
       "      <td>5.77</td>\n",
       "      <td>15630</td>\n",
       "    </tr>\n",
       "    <tr>\n",
       "      <th>15</th>\n",
       "      <td>8054</td>\n",
       "      <td>Straßgang</td>\n",
       "      <td>11.75</td>\n",
       "      <td>16003</td>\n",
       "    </tr>\n",
       "    <tr>\n",
       "      <th>16</th>\n",
       "      <td>8055</td>\n",
       "      <td>Puntigam</td>\n",
       "      <td>6.18</td>\n",
       "      <td>8628</td>\n",
       "    </tr>\n",
       "  </tbody>\n",
       "</table>\n",
       "</div>"
      ],
      "text/plain": [
       "   Post Code       Borough  Area [km2]  Population\n",
       "0       8010  Innere Stadt        1.16        3899\n",
       "1       8010  St. Leonhard        1.83       16235\n",
       "2       8010       Geidorf        5.50       25300\n",
       "3       8020          Lend        3.70       30966\n",
       "4       8020         Gries        5.05       28735\n",
       "5       8010      Jakomini        4.06       33283\n",
       "6       8041      Liebenau        7.99       14417\n",
       "7       8042     St. Peter        8.86       15139\n",
       "8       8010    Waltendorf        4.48       11906\n",
       "9       8010          Ries       10.16        5910\n",
       "10      8043    Mariatrost       13.99        9756\n",
       "11      8045       Andritz       18.47       19197\n",
       "12      8051       Gösting       10.83       11129\n",
       "13      8020     Eggenberg        7.79       20553\n",
       "14      8052   Wetzelsdorf        5.77       15630\n",
       "15      8054     Straßgang       11.75       16003\n",
       "16      8055      Puntigam        6.18        8628"
      ]
     },
     "execution_count": 15,
     "metadata": {},
     "output_type": "execute_result"
    }
   ],
   "source": [
    "graz"
   ]
  },
  {
   "cell_type": "markdown",
   "metadata": {},
   "source": [
    "### Geting latitudes and longitudes of boroughs in Graz"
   ]
  },
  {
   "cell_type": "markdown",
   "metadata": {},
   "source": [
    "__Installing and importing geopy library__"
   ]
  },
  {
   "cell_type": "code",
   "execution_count": 16,
   "metadata": {},
   "outputs": [
    {
     "name": "stdout",
     "output_type": "stream",
     "text": [
      "Requirement already satisfied: geopy in c:\\users\\gaj\\appdata\\local\\continuum\\anaconda3\\lib\\site-packages (1.22.0)\n",
      "Requirement already satisfied: geographiclib<2,>=1.49 in c:\\users\\gaj\\appdata\\local\\continuum\\anaconda3\\lib\\site-packages (from geopy) (1.50)\n"
     ]
    }
   ],
   "source": [
    "!pip install geopy"
   ]
  },
  {
   "cell_type": "markdown",
   "metadata": {},
   "source": [
    "__From geopy I use Nominatim to get latitude and longitude__"
   ]
  },
  {
   "cell_type": "code",
   "execution_count": 17,
   "metadata": {},
   "outputs": [],
   "source": [
    "import geopy\n",
    "from geopy.geocoders import Nominatim"
   ]
  },
  {
   "cell_type": "code",
   "execution_count": 18,
   "metadata": {},
   "outputs": [],
   "source": [
    "locator = Nominatim(user_agent=\"myGeocoder\")\n",
    "#location = locator.geocode(\"Gries, Graz, Austria\")"
   ]
  },
  {
   "cell_type": "code",
   "execution_count": 19,
   "metadata": {},
   "outputs": [
    {
     "name": "stdout",
     "output_type": "stream",
     "text": [
      "Innere Stadt, Graz, Austria\n",
      "St. Leonhard, Graz, Austria\n",
      "Geidorf, Graz, Austria\n",
      "Lend, Graz, Austria\n",
      "Gries, Graz, Austria\n",
      "Jakomini, Graz, Austria\n",
      "Liebenau, Graz, Austria\n",
      "St. Peter, Graz, Austria\n",
      "Waltendorf, Graz, Austria\n",
      "Ries, Graz, Austria\n",
      "Mariatrost, Graz, Austria\n",
      "Andritz, Graz, Austria\n",
      "Gösting, Graz, Austria\n",
      "Eggenberg, Graz, Austria\n",
      "Wetzelsdorf, Graz, Austria\n",
      "Straßgang, Graz, Austria\n",
      "Puntigam, Graz, Austria\n"
     ]
    }
   ],
   "source": [
    "latitude =[]\n",
    "longitude = []\n",
    "\n",
    "for bor in borough:\n",
    "    print(bor + \", Graz, Austria\")\n",
    "    location = locator.geocode(bor + \", Graz, Austria\")\n",
    "    if location!=None:\n",
    "        latitude.append(location.latitude)\n",
    "        longitude.append(location.longitude)\n",
    "    else:\n",
    "        latitude.append(None)\n",
    "        longitude.append(None)"
   ]
  },
  {
   "cell_type": "markdown",
   "metadata": {},
   "source": [
    "__Adding latitude and longitude into padndas dataframe__"
   ]
  },
  {
   "cell_type": "code",
   "execution_count": 20,
   "metadata": {},
   "outputs": [],
   "source": [
    "graz['Latitude'] = latitude\n",
    "graz['Longitude'] = longitude"
   ]
  },
  {
   "cell_type": "code",
   "execution_count": 21,
   "metadata": {},
   "outputs": [
    {
     "data": {
      "text/html": [
       "<div>\n",
       "<style scoped>\n",
       "    .dataframe tbody tr th:only-of-type {\n",
       "        vertical-align: middle;\n",
       "    }\n",
       "\n",
       "    .dataframe tbody tr th {\n",
       "        vertical-align: top;\n",
       "    }\n",
       "\n",
       "    .dataframe thead th {\n",
       "        text-align: right;\n",
       "    }\n",
       "</style>\n",
       "<table border=\"1\" class=\"dataframe\">\n",
       "  <thead>\n",
       "    <tr style=\"text-align: right;\">\n",
       "      <th></th>\n",
       "      <th>Post Code</th>\n",
       "      <th>Borough</th>\n",
       "      <th>Area [km2]</th>\n",
       "      <th>Population</th>\n",
       "      <th>Latitude</th>\n",
       "      <th>Longitude</th>\n",
       "    </tr>\n",
       "  </thead>\n",
       "  <tbody>\n",
       "    <tr>\n",
       "      <th>0</th>\n",
       "      <td>8010</td>\n",
       "      <td>Innere Stadt</td>\n",
       "      <td>1.16</td>\n",
       "      <td>3899</td>\n",
       "      <td>47.074261</td>\n",
       "      <td>15.438466</td>\n",
       "    </tr>\n",
       "    <tr>\n",
       "      <th>1</th>\n",
       "      <td>8010</td>\n",
       "      <td>St. Leonhard</td>\n",
       "      <td>1.83</td>\n",
       "      <td>16235</td>\n",
       "      <td>47.068287</td>\n",
       "      <td>15.456344</td>\n",
       "    </tr>\n",
       "    <tr>\n",
       "      <th>2</th>\n",
       "      <td>8010</td>\n",
       "      <td>Geidorf</td>\n",
       "      <td>5.50</td>\n",
       "      <td>25300</td>\n",
       "      <td>47.084668</td>\n",
       "      <td>15.442896</td>\n",
       "    </tr>\n",
       "    <tr>\n",
       "      <th>3</th>\n",
       "      <td>8020</td>\n",
       "      <td>Lend</td>\n",
       "      <td>3.70</td>\n",
       "      <td>30966</td>\n",
       "      <td>47.079675</td>\n",
       "      <td>15.420325</td>\n",
       "    </tr>\n",
       "    <tr>\n",
       "      <th>4</th>\n",
       "      <td>8020</td>\n",
       "      <td>Gries</td>\n",
       "      <td>5.05</td>\n",
       "      <td>28735</td>\n",
       "      <td>47.061222</td>\n",
       "      <td>15.427370</td>\n",
       "    </tr>\n",
       "    <tr>\n",
       "      <th>5</th>\n",
       "      <td>8010</td>\n",
       "      <td>Jakomini</td>\n",
       "      <td>4.06</td>\n",
       "      <td>33283</td>\n",
       "      <td>47.059623</td>\n",
       "      <td>15.444707</td>\n",
       "    </tr>\n",
       "    <tr>\n",
       "      <th>6</th>\n",
       "      <td>8041</td>\n",
       "      <td>Liebenau</td>\n",
       "      <td>7.99</td>\n",
       "      <td>14417</td>\n",
       "      <td>47.040169</td>\n",
       "      <td>15.449265</td>\n",
       "    </tr>\n",
       "    <tr>\n",
       "      <th>7</th>\n",
       "      <td>8042</td>\n",
       "      <td>St. Peter</td>\n",
       "      <td>8.86</td>\n",
       "      <td>15139</td>\n",
       "      <td>47.058701</td>\n",
       "      <td>15.469985</td>\n",
       "    </tr>\n",
       "    <tr>\n",
       "      <th>8</th>\n",
       "      <td>8010</td>\n",
       "      <td>Waltendorf</td>\n",
       "      <td>4.48</td>\n",
       "      <td>11906</td>\n",
       "      <td>47.067741</td>\n",
       "      <td>15.477172</td>\n",
       "    </tr>\n",
       "    <tr>\n",
       "      <th>9</th>\n",
       "      <td>8010</td>\n",
       "      <td>Ries</td>\n",
       "      <td>10.16</td>\n",
       "      <td>5910</td>\n",
       "      <td>47.088113</td>\n",
       "      <td>15.497180</td>\n",
       "    </tr>\n",
       "    <tr>\n",
       "      <th>10</th>\n",
       "      <td>8043</td>\n",
       "      <td>Mariatrost</td>\n",
       "      <td>13.99</td>\n",
       "      <td>9756</td>\n",
       "      <td>47.101685</td>\n",
       "      <td>15.480090</td>\n",
       "    </tr>\n",
       "    <tr>\n",
       "      <th>11</th>\n",
       "      <td>8045</td>\n",
       "      <td>Andritz</td>\n",
       "      <td>18.47</td>\n",
       "      <td>19197</td>\n",
       "      <td>47.114287</td>\n",
       "      <td>15.430750</td>\n",
       "    </tr>\n",
       "    <tr>\n",
       "      <th>12</th>\n",
       "      <td>8051</td>\n",
       "      <td>Gösting</td>\n",
       "      <td>10.83</td>\n",
       "      <td>11129</td>\n",
       "      <td>47.093699</td>\n",
       "      <td>15.401919</td>\n",
       "    </tr>\n",
       "    <tr>\n",
       "      <th>13</th>\n",
       "      <td>8020</td>\n",
       "      <td>Eggenberg</td>\n",
       "      <td>7.79</td>\n",
       "      <td>20553</td>\n",
       "      <td>47.070301</td>\n",
       "      <td>15.397771</td>\n",
       "    </tr>\n",
       "    <tr>\n",
       "      <th>14</th>\n",
       "      <td>8052</td>\n",
       "      <td>Wetzelsdorf</td>\n",
       "      <td>5.77</td>\n",
       "      <td>15630</td>\n",
       "      <td>47.049721</td>\n",
       "      <td>15.394168</td>\n",
       "    </tr>\n",
       "    <tr>\n",
       "      <th>15</th>\n",
       "      <td>8054</td>\n",
       "      <td>Straßgang</td>\n",
       "      <td>11.75</td>\n",
       "      <td>16003</td>\n",
       "      <td>47.035373</td>\n",
       "      <td>15.406673</td>\n",
       "    </tr>\n",
       "    <tr>\n",
       "      <th>16</th>\n",
       "      <td>8055</td>\n",
       "      <td>Puntigam</td>\n",
       "      <td>6.18</td>\n",
       "      <td>8628</td>\n",
       "      <td>47.027102</td>\n",
       "      <td>15.434848</td>\n",
       "    </tr>\n",
       "  </tbody>\n",
       "</table>\n",
       "</div>"
      ],
      "text/plain": [
       "   Post Code       Borough  Area [km2]  Population   Latitude  Longitude\n",
       "0       8010  Innere Stadt        1.16        3899  47.074261  15.438466\n",
       "1       8010  St. Leonhard        1.83       16235  47.068287  15.456344\n",
       "2       8010       Geidorf        5.50       25300  47.084668  15.442896\n",
       "3       8020          Lend        3.70       30966  47.079675  15.420325\n",
       "4       8020         Gries        5.05       28735  47.061222  15.427370\n",
       "5       8010      Jakomini        4.06       33283  47.059623  15.444707\n",
       "6       8041      Liebenau        7.99       14417  47.040169  15.449265\n",
       "7       8042     St. Peter        8.86       15139  47.058701  15.469985\n",
       "8       8010    Waltendorf        4.48       11906  47.067741  15.477172\n",
       "9       8010          Ries       10.16        5910  47.088113  15.497180\n",
       "10      8043    Mariatrost       13.99        9756  47.101685  15.480090\n",
       "11      8045       Andritz       18.47       19197  47.114287  15.430750\n",
       "12      8051       Gösting       10.83       11129  47.093699  15.401919\n",
       "13      8020     Eggenberg        7.79       20553  47.070301  15.397771\n",
       "14      8052   Wetzelsdorf        5.77       15630  47.049721  15.394168\n",
       "15      8054     Straßgang       11.75       16003  47.035373  15.406673\n",
       "16      8055      Puntigam        6.18        8628  47.027102  15.434848"
      ]
     },
     "execution_count": 21,
     "metadata": {},
     "output_type": "execute_result"
    }
   ],
   "source": [
    "graz"
   ]
  },
  {
   "cell_type": "markdown",
   "metadata": {},
   "source": [
    "## Now I need to find all datafor Stuttgart, Germany"
   ]
  },
  {
   "cell_type": "markdown",
   "metadata": {},
   "source": [
    "__Web scraping with beautifulsoup__"
   ]
  },
  {
   "cell_type": "code",
   "execution_count": 22,
   "metadata": {},
   "outputs": [],
   "source": [
    "url = \"https://www.suche-postleitzahl.org/stuttgart-plz-70173-70629.608e\"\n",
    "url = requests.get(url)\n",
    "url = url.content"
   ]
  },
  {
   "cell_type": "markdown",
   "metadata": {},
   "source": [
    "Pandas library has a method read_html, which puts data from table in one dataframe"
   ]
  },
  {
   "cell_type": "code",
   "execution_count": 23,
   "metadata": {},
   "outputs": [],
   "source": [
    "stuttgart_plz = pd.read_html(url)"
   ]
  },
  {
   "cell_type": "code",
   "execution_count": 24,
   "metadata": {},
   "outputs": [],
   "source": [
    "stuttgart_plz = stuttgart_plz[1]"
   ]
  },
  {
   "cell_type": "code",
   "execution_count": 25,
   "metadata": {},
   "outputs": [],
   "source": [
    "url = \"https://de.wikipedia.org/wiki/Liste_der_Stadtbezirke_und_Stadtteile_von_Stuttgart\"\n",
    "url = requests.get(url).content"
   ]
  },
  {
   "cell_type": "code",
   "execution_count": 26,
   "metadata": {},
   "outputs": [],
   "source": [
    "soup = BeautifulSoup(url,'html.parser')\n",
    "table = soup.find_all('table',{'class':\"wikitable sortable mw-datatable\"})"
   ]
  },
  {
   "cell_type": "code",
   "execution_count": 27,
   "metadata": {},
   "outputs": [],
   "source": [
    "trs = table[0].find_all('tr')\n",
    "stutt = []\n",
    "line = []\n",
    "s_borough = []\n",
    "s_pop = []\n",
    "s_area_ha = []\n",
    "\n",
    "for tr in trs:\n",
    "    line = []\n",
    "    tds = tr.find_all(\"td\")\n",
    "    for td in tds:\n",
    "        line.append(td.text)\n",
    "    stutt.append(line)"
   ]
  },
  {
   "cell_type": "code",
   "execution_count": 28,
   "metadata": {},
   "outputs": [],
   "source": [
    "for st in stutt:\n",
    "    if len(st) != 0:\n",
    "        s_borough.append(st[1])\n",
    "        s_pop.append(st[2].replace(\".\",\"\"))\n",
    "        s_area_ha.append(st[3].replace(\",\",\".\"))"
   ]
  },
  {
   "cell_type": "code",
   "execution_count": 29,
   "metadata": {},
   "outputs": [
    {
     "data": {
      "text/plain": [
       "23"
      ]
     },
     "execution_count": 29,
     "metadata": {},
     "output_type": "execute_result"
    }
   ],
   "source": [
    "len(s_borough)"
   ]
  },
  {
   "cell_type": "code",
   "execution_count": 30,
   "metadata": {},
   "outputs": [
    {
     "data": {
      "text/plain": [
       "23"
      ]
     },
     "execution_count": 30,
     "metadata": {},
     "output_type": "execute_result"
    }
   ],
   "source": [
    "len(s_pop)"
   ]
  },
  {
   "cell_type": "code",
   "execution_count": 31,
   "metadata": {},
   "outputs": [
    {
     "data": {
      "text/plain": [
       "23"
      ]
     },
     "execution_count": 31,
     "metadata": {},
     "output_type": "execute_result"
    }
   ],
   "source": [
    "len(s_area_ha)"
   ]
  },
  {
   "cell_type": "code",
   "execution_count": 32,
   "metadata": {},
   "outputs": [],
   "source": [
    "stuttgart = pd.DataFrame({'Borough':s_borough, 'Area [ha]':s_area_ha, 'Population': s_pop})"
   ]
  },
  {
   "cell_type": "markdown",
   "metadata": {},
   "source": [
    "__Converting data from String to float and int__"
   ]
  },
  {
   "cell_type": "code",
   "execution_count": 33,
   "metadata": {},
   "outputs": [],
   "source": [
    "stuttgart['Area [ha]'] = stuttgart['Area [ha]'].astype(float)\n",
    "stuttgart['Population'] = stuttgart['Population'].astype(int)"
   ]
  },
  {
   "cell_type": "code",
   "execution_count": 34,
   "metadata": {},
   "outputs": [
    {
     "data": {
      "text/plain": [
       "Borough        object\n",
       "Area [ha]     float64\n",
       "Population      int32\n",
       "dtype: object"
      ]
     },
     "execution_count": 34,
     "metadata": {},
     "output_type": "execute_result"
    }
   ],
   "source": [
    "stuttgart.dtypes"
   ]
  },
  {
   "cell_type": "markdown",
   "metadata": {},
   "source": [
    "__Converting Area from [ha] to [km2]__"
   ]
  },
  {
   "cell_type": "code",
   "execution_count": 35,
   "metadata": {},
   "outputs": [],
   "source": [
    "stuttgart['Area [km2]'] = stuttgart['Area [ha]']/100"
   ]
  },
  {
   "cell_type": "code",
   "execution_count": 36,
   "metadata": {},
   "outputs": [],
   "source": [
    "stuttgart.drop('Area [ha]', axis = 1, inplace=True)"
   ]
  },
  {
   "cell_type": "code",
   "execution_count": 37,
   "metadata": {},
   "outputs": [
    {
     "data": {
      "text/html": [
       "<div>\n",
       "<style scoped>\n",
       "    .dataframe tbody tr th:only-of-type {\n",
       "        vertical-align: middle;\n",
       "    }\n",
       "\n",
       "    .dataframe tbody tr th {\n",
       "        vertical-align: top;\n",
       "    }\n",
       "\n",
       "    .dataframe thead th {\n",
       "        text-align: right;\n",
       "    }\n",
       "</style>\n",
       "<table border=\"1\" class=\"dataframe\">\n",
       "  <thead>\n",
       "    <tr style=\"text-align: right;\">\n",
       "      <th></th>\n",
       "      <th>Borough</th>\n",
       "      <th>Population</th>\n",
       "      <th>Area [km2]</th>\n",
       "    </tr>\n",
       "  </thead>\n",
       "  <tbody>\n",
       "    <tr>\n",
       "      <th>0</th>\n",
       "      <td>Stuttgart-Mitte</td>\n",
       "      <td>23956</td>\n",
       "      <td>3.808</td>\n",
       "    </tr>\n",
       "    <tr>\n",
       "      <th>1</th>\n",
       "      <td>Stuttgart-Nord</td>\n",
       "      <td>27629</td>\n",
       "      <td>6.815</td>\n",
       "    </tr>\n",
       "    <tr>\n",
       "      <th>2</th>\n",
       "      <td>Stuttgart-Ost</td>\n",
       "      <td>48730</td>\n",
       "      <td>9.035</td>\n",
       "    </tr>\n",
       "    <tr>\n",
       "      <th>3</th>\n",
       "      <td>Stuttgart-Süd</td>\n",
       "      <td>44050</td>\n",
       "      <td>9.586</td>\n",
       "    </tr>\n",
       "    <tr>\n",
       "      <th>4</th>\n",
       "      <td>Stuttgart-West</td>\n",
       "      <td>52668</td>\n",
       "      <td>18.643</td>\n",
       "    </tr>\n",
       "    <tr>\n",
       "      <th>5</th>\n",
       "      <td>Bad Cannstatt</td>\n",
       "      <td>71285</td>\n",
       "      <td>15.713</td>\n",
       "    </tr>\n",
       "    <tr>\n",
       "      <th>6</th>\n",
       "      <td>Birkach</td>\n",
       "      <td>7149</td>\n",
       "      <td>3.089</td>\n",
       "    </tr>\n",
       "    <tr>\n",
       "      <th>7</th>\n",
       "      <td>Botnang</td>\n",
       "      <td>13165</td>\n",
       "      <td>2.135</td>\n",
       "    </tr>\n",
       "    <tr>\n",
       "      <th>8</th>\n",
       "      <td>Degerloch</td>\n",
       "      <td>16686</td>\n",
       "      <td>8.021</td>\n",
       "    </tr>\n",
       "    <tr>\n",
       "      <th>9</th>\n",
       "      <td>Feuerbach</td>\n",
       "      <td>30417</td>\n",
       "      <td>11.554</td>\n",
       "    </tr>\n",
       "    <tr>\n",
       "      <th>10</th>\n",
       "      <td>Hedelfingen</td>\n",
       "      <td>10296</td>\n",
       "      <td>7.324</td>\n",
       "    </tr>\n",
       "    <tr>\n",
       "      <th>11</th>\n",
       "      <td>Möhringen</td>\n",
       "      <td>33094</td>\n",
       "      <td>15.044</td>\n",
       "    </tr>\n",
       "    <tr>\n",
       "      <th>12</th>\n",
       "      <td>Mühlhausen</td>\n",
       "      <td>25675</td>\n",
       "      <td>9.120</td>\n",
       "    </tr>\n",
       "    <tr>\n",
       "      <th>13</th>\n",
       "      <td>Münster</td>\n",
       "      <td>6796</td>\n",
       "      <td>2.210</td>\n",
       "    </tr>\n",
       "    <tr>\n",
       "      <th>14</th>\n",
       "      <td>Obertürkheim</td>\n",
       "      <td>8648</td>\n",
       "      <td>5.462</td>\n",
       "    </tr>\n",
       "    <tr>\n",
       "      <th>15</th>\n",
       "      <td>Plieningen</td>\n",
       "      <td>13397</td>\n",
       "      <td>13.075</td>\n",
       "    </tr>\n",
       "    <tr>\n",
       "      <th>16</th>\n",
       "      <td>Sillenbuch</td>\n",
       "      <td>24067</td>\n",
       "      <td>7.457</td>\n",
       "    </tr>\n",
       "    <tr>\n",
       "      <th>17</th>\n",
       "      <td>Stammheim</td>\n",
       "      <td>12502</td>\n",
       "      <td>4.334</td>\n",
       "    </tr>\n",
       "    <tr>\n",
       "      <th>18</th>\n",
       "      <td>Untertürkheim</td>\n",
       "      <td>16694</td>\n",
       "      <td>6.055</td>\n",
       "    </tr>\n",
       "    <tr>\n",
       "      <th>19</th>\n",
       "      <td>Vaihingen</td>\n",
       "      <td>48835</td>\n",
       "      <td>20.893</td>\n",
       "    </tr>\n",
       "    <tr>\n",
       "      <th>20</th>\n",
       "      <td>Wangen</td>\n",
       "      <td>9255</td>\n",
       "      <td>3.426</td>\n",
       "    </tr>\n",
       "    <tr>\n",
       "      <th>21</th>\n",
       "      <td>Weilimdorf</td>\n",
       "      <td>31873</td>\n",
       "      <td>12.585</td>\n",
       "    </tr>\n",
       "    <tr>\n",
       "      <th>22</th>\n",
       "      <td>Zuffenhausen</td>\n",
       "      <td>38676</td>\n",
       "      <td>11.963</td>\n",
       "    </tr>\n",
       "  </tbody>\n",
       "</table>\n",
       "</div>"
      ],
      "text/plain": [
       "            Borough  Population  Area [km2]\n",
       "0   Stuttgart-Mitte       23956       3.808\n",
       "1    Stuttgart-Nord       27629       6.815\n",
       "2     Stuttgart-Ost       48730       9.035\n",
       "3     Stuttgart-Süd       44050       9.586\n",
       "4    Stuttgart-West       52668      18.643\n",
       "5     Bad Cannstatt       71285      15.713\n",
       "6           Birkach        7149       3.089\n",
       "7           Botnang       13165       2.135\n",
       "8         Degerloch       16686       8.021\n",
       "9         Feuerbach       30417      11.554\n",
       "10      Hedelfingen       10296       7.324\n",
       "11        Möhringen       33094      15.044\n",
       "12       Mühlhausen       25675       9.120\n",
       "13          Münster        6796       2.210\n",
       "14     Obertürkheim        8648       5.462\n",
       "15       Plieningen       13397      13.075\n",
       "16       Sillenbuch       24067       7.457\n",
       "17        Stammheim       12502       4.334\n",
       "18    Untertürkheim       16694       6.055\n",
       "19        Vaihingen       48835      20.893\n",
       "20           Wangen        9255       3.426\n",
       "21       Weilimdorf       31873      12.585\n",
       "22     Zuffenhausen       38676      11.963"
      ]
     },
     "execution_count": 37,
     "metadata": {},
     "output_type": "execute_result"
    }
   ],
   "source": [
    "stuttgart"
   ]
  },
  {
   "cell_type": "code",
   "execution_count": 38,
   "metadata": {},
   "outputs": [],
   "source": [
    "stuttgart_plz = stuttgart_plz.loc[stuttgart_plz['Stadtteil'].isin(stuttgart['Borough'])]"
   ]
  },
  {
   "cell_type": "code",
   "execution_count": 39,
   "metadata": {},
   "outputs": [],
   "source": [
    "stuttgart_plz.rename(columns={'Stadtteil':'Borough'}, inplace=True)\n",
    "stuttgart_plz.rename(columns={'Postleitzahl':'Post Code'}, inplace=True)"
   ]
  },
  {
   "cell_type": "code",
   "execution_count": 40,
   "metadata": {},
   "outputs": [
    {
     "data": {
      "text/html": [
       "<div>\n",
       "<style scoped>\n",
       "    .dataframe tbody tr th:only-of-type {\n",
       "        vertical-align: middle;\n",
       "    }\n",
       "\n",
       "    .dataframe tbody tr th {\n",
       "        vertical-align: top;\n",
       "    }\n",
       "\n",
       "    .dataframe thead th {\n",
       "        text-align: right;\n",
       "    }\n",
       "</style>\n",
       "<table border=\"1\" class=\"dataframe\">\n",
       "  <thead>\n",
       "    <tr style=\"text-align: right;\">\n",
       "      <th></th>\n",
       "      <th>Borough</th>\n",
       "      <th>Post Code</th>\n",
       "    </tr>\n",
       "  </thead>\n",
       "  <tbody>\n",
       "    <tr>\n",
       "      <th>1</th>\n",
       "      <td>Bad Cannstatt</td>\n",
       "      <td>70191, 70372, 70374, 70376, 70378</td>\n",
       "    </tr>\n",
       "    <tr>\n",
       "      <th>3</th>\n",
       "      <td>Birkach</td>\n",
       "      <td>70599</td>\n",
       "    </tr>\n",
       "    <tr>\n",
       "      <th>4</th>\n",
       "      <td>Botnang</td>\n",
       "      <td>70195</td>\n",
       "    </tr>\n",
       "    <tr>\n",
       "      <th>8</th>\n",
       "      <td>Degerloch</td>\n",
       "      <td>70597</td>\n",
       "    </tr>\n",
       "    <tr>\n",
       "      <th>11</th>\n",
       "      <td>Feuerbach</td>\n",
       "      <td>70192, 70469, 70499</td>\n",
       "    </tr>\n",
       "    <tr>\n",
       "      <th>17</th>\n",
       "      <td>Hedelfingen</td>\n",
       "      <td>70327, 70329</td>\n",
       "    </tr>\n",
       "    <tr>\n",
       "      <th>25</th>\n",
       "      <td>Möhringen</td>\n",
       "      <td>70565, 70567, 70597</td>\n",
       "    </tr>\n",
       "    <tr>\n",
       "      <th>27</th>\n",
       "      <td>Mühlhausen</td>\n",
       "      <td>70378</td>\n",
       "    </tr>\n",
       "    <tr>\n",
       "      <th>28</th>\n",
       "      <td>Münster</td>\n",
       "      <td>70376</td>\n",
       "    </tr>\n",
       "    <tr>\n",
       "      <th>31</th>\n",
       "      <td>Obertürkheim</td>\n",
       "      <td>70329</td>\n",
       "    </tr>\n",
       "    <tr>\n",
       "      <th>32</th>\n",
       "      <td>Plieningen</td>\n",
       "      <td>70599</td>\n",
       "    </tr>\n",
       "    <tr>\n",
       "      <th>39</th>\n",
       "      <td>Sillenbuch</td>\n",
       "      <td>70619</td>\n",
       "    </tr>\n",
       "    <tr>\n",
       "      <th>42</th>\n",
       "      <td>Stammheim</td>\n",
       "      <td>70435, 70439</td>\n",
       "    </tr>\n",
       "    <tr>\n",
       "      <th>45</th>\n",
       "      <td>Stuttgart-Mitte</td>\n",
       "      <td>70173, 70174, 70176, 70178, 70180, 70182, 7018...</td>\n",
       "    </tr>\n",
       "    <tr>\n",
       "      <th>46</th>\n",
       "      <td>Stuttgart-Nord</td>\n",
       "      <td>70174, 70191, 70192, 70193</td>\n",
       "    </tr>\n",
       "    <tr>\n",
       "      <th>47</th>\n",
       "      <td>Stuttgart-Ost</td>\n",
       "      <td>70184, 70186, 70188, 70190, 70327</td>\n",
       "    </tr>\n",
       "    <tr>\n",
       "      <th>48</th>\n",
       "      <td>Stuttgart-Süd</td>\n",
       "      <td>70178, 70180, 70184, 70199</td>\n",
       "    </tr>\n",
       "    <tr>\n",
       "      <th>49</th>\n",
       "      <td>Stuttgart-West</td>\n",
       "      <td>70174, 70176, 70178, 70193, 70197</td>\n",
       "    </tr>\n",
       "    <tr>\n",
       "      <th>51</th>\n",
       "      <td>Untertürkheim</td>\n",
       "      <td>70327</td>\n",
       "    </tr>\n",
       "    <tr>\n",
       "      <th>52</th>\n",
       "      <td>Vaihingen</td>\n",
       "      <td>70563, 70565, 70569</td>\n",
       "    </tr>\n",
       "    <tr>\n",
       "      <th>53</th>\n",
       "      <td>Wangen</td>\n",
       "      <td>70327</td>\n",
       "    </tr>\n",
       "    <tr>\n",
       "      <th>54</th>\n",
       "      <td>Weilimdorf</td>\n",
       "      <td>70499</td>\n",
       "    </tr>\n",
       "    <tr>\n",
       "      <th>58</th>\n",
       "      <td>Zuffenhausen</td>\n",
       "      <td>70376, 70435, 70437, 70439, 70469</td>\n",
       "    </tr>\n",
       "  </tbody>\n",
       "</table>\n",
       "</div>"
      ],
      "text/plain": [
       "            Borough                                          Post Code\n",
       "1     Bad Cannstatt                  70191, 70372, 70374, 70376, 70378\n",
       "3           Birkach                                              70599\n",
       "4           Botnang                                              70195\n",
       "8         Degerloch                                              70597\n",
       "11        Feuerbach                                70192, 70469, 70499\n",
       "17      Hedelfingen                                       70327, 70329\n",
       "25        Möhringen                                70565, 70567, 70597\n",
       "27       Mühlhausen                                              70378\n",
       "28          Münster                                              70376\n",
       "31     Obertürkheim                                              70329\n",
       "32       Plieningen                                              70599\n",
       "39       Sillenbuch                                              70619\n",
       "42        Stammheim                                       70435, 70439\n",
       "45  Stuttgart-Mitte  70173, 70174, 70176, 70178, 70180, 70182, 7018...\n",
       "46   Stuttgart-Nord                         70174, 70191, 70192, 70193\n",
       "47    Stuttgart-Ost                  70184, 70186, 70188, 70190, 70327\n",
       "48    Stuttgart-Süd                         70178, 70180, 70184, 70199\n",
       "49   Stuttgart-West                  70174, 70176, 70178, 70193, 70197\n",
       "51    Untertürkheim                                              70327\n",
       "52        Vaihingen                                70563, 70565, 70569\n",
       "53           Wangen                                              70327\n",
       "54       Weilimdorf                                              70499\n",
       "58     Zuffenhausen                  70376, 70435, 70437, 70439, 70469"
      ]
     },
     "execution_count": 40,
     "metadata": {},
     "output_type": "execute_result"
    }
   ],
   "source": [
    "stuttgart_plz"
   ]
  },
  {
   "cell_type": "code",
   "execution_count": 41,
   "metadata": {},
   "outputs": [
    {
     "data": {
      "text/html": [
       "<div>\n",
       "<style scoped>\n",
       "    .dataframe tbody tr th:only-of-type {\n",
       "        vertical-align: middle;\n",
       "    }\n",
       "\n",
       "    .dataframe tbody tr th {\n",
       "        vertical-align: top;\n",
       "    }\n",
       "\n",
       "    .dataframe thead th {\n",
       "        text-align: right;\n",
       "    }\n",
       "</style>\n",
       "<table border=\"1\" class=\"dataframe\">\n",
       "  <thead>\n",
       "    <tr style=\"text-align: right;\">\n",
       "      <th></th>\n",
       "      <th>Borough</th>\n",
       "      <th>Population</th>\n",
       "      <th>Area [km2]</th>\n",
       "    </tr>\n",
       "  </thead>\n",
       "  <tbody>\n",
       "    <tr>\n",
       "      <th>0</th>\n",
       "      <td>Stuttgart-Mitte</td>\n",
       "      <td>23956</td>\n",
       "      <td>3.808</td>\n",
       "    </tr>\n",
       "    <tr>\n",
       "      <th>1</th>\n",
       "      <td>Stuttgart-Nord</td>\n",
       "      <td>27629</td>\n",
       "      <td>6.815</td>\n",
       "    </tr>\n",
       "    <tr>\n",
       "      <th>2</th>\n",
       "      <td>Stuttgart-Ost</td>\n",
       "      <td>48730</td>\n",
       "      <td>9.035</td>\n",
       "    </tr>\n",
       "    <tr>\n",
       "      <th>3</th>\n",
       "      <td>Stuttgart-Süd</td>\n",
       "      <td>44050</td>\n",
       "      <td>9.586</td>\n",
       "    </tr>\n",
       "    <tr>\n",
       "      <th>4</th>\n",
       "      <td>Stuttgart-West</td>\n",
       "      <td>52668</td>\n",
       "      <td>18.643</td>\n",
       "    </tr>\n",
       "    <tr>\n",
       "      <th>5</th>\n",
       "      <td>Bad Cannstatt</td>\n",
       "      <td>71285</td>\n",
       "      <td>15.713</td>\n",
       "    </tr>\n",
       "    <tr>\n",
       "      <th>6</th>\n",
       "      <td>Birkach</td>\n",
       "      <td>7149</td>\n",
       "      <td>3.089</td>\n",
       "    </tr>\n",
       "    <tr>\n",
       "      <th>7</th>\n",
       "      <td>Botnang</td>\n",
       "      <td>13165</td>\n",
       "      <td>2.135</td>\n",
       "    </tr>\n",
       "    <tr>\n",
       "      <th>8</th>\n",
       "      <td>Degerloch</td>\n",
       "      <td>16686</td>\n",
       "      <td>8.021</td>\n",
       "    </tr>\n",
       "    <tr>\n",
       "      <th>9</th>\n",
       "      <td>Feuerbach</td>\n",
       "      <td>30417</td>\n",
       "      <td>11.554</td>\n",
       "    </tr>\n",
       "    <tr>\n",
       "      <th>10</th>\n",
       "      <td>Hedelfingen</td>\n",
       "      <td>10296</td>\n",
       "      <td>7.324</td>\n",
       "    </tr>\n",
       "    <tr>\n",
       "      <th>11</th>\n",
       "      <td>Möhringen</td>\n",
       "      <td>33094</td>\n",
       "      <td>15.044</td>\n",
       "    </tr>\n",
       "    <tr>\n",
       "      <th>12</th>\n",
       "      <td>Mühlhausen</td>\n",
       "      <td>25675</td>\n",
       "      <td>9.120</td>\n",
       "    </tr>\n",
       "    <tr>\n",
       "      <th>13</th>\n",
       "      <td>Münster</td>\n",
       "      <td>6796</td>\n",
       "      <td>2.210</td>\n",
       "    </tr>\n",
       "    <tr>\n",
       "      <th>14</th>\n",
       "      <td>Obertürkheim</td>\n",
       "      <td>8648</td>\n",
       "      <td>5.462</td>\n",
       "    </tr>\n",
       "    <tr>\n",
       "      <th>15</th>\n",
       "      <td>Plieningen</td>\n",
       "      <td>13397</td>\n",
       "      <td>13.075</td>\n",
       "    </tr>\n",
       "    <tr>\n",
       "      <th>16</th>\n",
       "      <td>Sillenbuch</td>\n",
       "      <td>24067</td>\n",
       "      <td>7.457</td>\n",
       "    </tr>\n",
       "    <tr>\n",
       "      <th>17</th>\n",
       "      <td>Stammheim</td>\n",
       "      <td>12502</td>\n",
       "      <td>4.334</td>\n",
       "    </tr>\n",
       "    <tr>\n",
       "      <th>18</th>\n",
       "      <td>Untertürkheim</td>\n",
       "      <td>16694</td>\n",
       "      <td>6.055</td>\n",
       "    </tr>\n",
       "    <tr>\n",
       "      <th>19</th>\n",
       "      <td>Vaihingen</td>\n",
       "      <td>48835</td>\n",
       "      <td>20.893</td>\n",
       "    </tr>\n",
       "    <tr>\n",
       "      <th>20</th>\n",
       "      <td>Wangen</td>\n",
       "      <td>9255</td>\n",
       "      <td>3.426</td>\n",
       "    </tr>\n",
       "    <tr>\n",
       "      <th>21</th>\n",
       "      <td>Weilimdorf</td>\n",
       "      <td>31873</td>\n",
       "      <td>12.585</td>\n",
       "    </tr>\n",
       "    <tr>\n",
       "      <th>22</th>\n",
       "      <td>Zuffenhausen</td>\n",
       "      <td>38676</td>\n",
       "      <td>11.963</td>\n",
       "    </tr>\n",
       "  </tbody>\n",
       "</table>\n",
       "</div>"
      ],
      "text/plain": [
       "            Borough  Population  Area [km2]\n",
       "0   Stuttgart-Mitte       23956       3.808\n",
       "1    Stuttgart-Nord       27629       6.815\n",
       "2     Stuttgart-Ost       48730       9.035\n",
       "3     Stuttgart-Süd       44050       9.586\n",
       "4    Stuttgart-West       52668      18.643\n",
       "5     Bad Cannstatt       71285      15.713\n",
       "6           Birkach        7149       3.089\n",
       "7           Botnang       13165       2.135\n",
       "8         Degerloch       16686       8.021\n",
       "9         Feuerbach       30417      11.554\n",
       "10      Hedelfingen       10296       7.324\n",
       "11        Möhringen       33094      15.044\n",
       "12       Mühlhausen       25675       9.120\n",
       "13          Münster        6796       2.210\n",
       "14     Obertürkheim        8648       5.462\n",
       "15       Plieningen       13397      13.075\n",
       "16       Sillenbuch       24067       7.457\n",
       "17        Stammheim       12502       4.334\n",
       "18    Untertürkheim       16694       6.055\n",
       "19        Vaihingen       48835      20.893\n",
       "20           Wangen        9255       3.426\n",
       "21       Weilimdorf       31873      12.585\n",
       "22     Zuffenhausen       38676      11.963"
      ]
     },
     "execution_count": 41,
     "metadata": {},
     "output_type": "execute_result"
    }
   ],
   "source": [
    "stuttgart"
   ]
  },
  {
   "cell_type": "markdown",
   "metadata": {},
   "source": [
    "__Joining two dataframes together__"
   ]
  },
  {
   "cell_type": "code",
   "execution_count": 42,
   "metadata": {},
   "outputs": [],
   "source": [
    "stuttgart = stuttgart.join(stuttgart_plz.set_index('Borough'), on='Borough')"
   ]
  },
  {
   "cell_type": "code",
   "execution_count": 43,
   "metadata": {},
   "outputs": [
    {
     "name": "stdout",
     "output_type": "stream",
     "text": [
      "Stuttgart-Mitte, Stuttgart, Germany\n",
      "Stuttgart-Nord, Stuttgart, Germany\n",
      "Stuttgart-Ost, Stuttgart, Germany\n",
      "Stuttgart-Süd, Stuttgart, Germany\n",
      "Stuttgart-West, Stuttgart, Germany\n",
      "Bad Cannstatt, Stuttgart, Germany\n",
      "Birkach, Stuttgart, Germany\n",
      "Botnang, Stuttgart, Germany\n",
      "Degerloch, Stuttgart, Germany\n",
      "Feuerbach, Stuttgart, Germany\n",
      "Hedelfingen, Stuttgart, Germany\n",
      "Möhringen, Stuttgart, Germany\n",
      "Mühlhausen, Stuttgart, Germany\n",
      "Münster, Stuttgart, Germany\n",
      "Obertürkheim, Stuttgart, Germany\n",
      "Plieningen, Stuttgart, Germany\n",
      "Sillenbuch, Stuttgart, Germany\n",
      "Stammheim, Stuttgart, Germany\n",
      "Untertürkheim, Stuttgart, Germany\n",
      "Vaihingen, Stuttgart, Germany\n",
      "Wangen, Stuttgart, Germany\n",
      "Weilimdorf, Stuttgart, Germany\n",
      "Zuffenhausen, Stuttgart, Germany\n"
     ]
    }
   ],
   "source": [
    "latitude =[]\n",
    "longitude = []\n",
    "\n",
    "for bor in stuttgart['Borough']:\n",
    "    \n",
    "    print(bor + \", Stuttgart, Germany\")\n",
    "    location = locator.geocode(bor + \", Stuttgart, Germany\")\n",
    "    if location!=None:\n",
    "        latitude.append(location.latitude)\n",
    "        longitude.append(location.longitude)\n",
    "    else:\n",
    "        latitude.append(None)\n",
    "        longitude.append(None)"
   ]
  },
  {
   "cell_type": "code",
   "execution_count": 44,
   "metadata": {},
   "outputs": [],
   "source": [
    "stuttgart['Latitude'] = latitude\n",
    "stuttgart['Longitude'] = longitude"
   ]
  },
  {
   "cell_type": "code",
   "execution_count": 45,
   "metadata": {},
   "outputs": [
    {
     "data": {
      "text/html": [
       "<div>\n",
       "<style scoped>\n",
       "    .dataframe tbody tr th:only-of-type {\n",
       "        vertical-align: middle;\n",
       "    }\n",
       "\n",
       "    .dataframe tbody tr th {\n",
       "        vertical-align: top;\n",
       "    }\n",
       "\n",
       "    .dataframe thead th {\n",
       "        text-align: right;\n",
       "    }\n",
       "</style>\n",
       "<table border=\"1\" class=\"dataframe\">\n",
       "  <thead>\n",
       "    <tr style=\"text-align: right;\">\n",
       "      <th></th>\n",
       "      <th>Post Code</th>\n",
       "      <th>Borough</th>\n",
       "      <th>Area [km2]</th>\n",
       "      <th>Population</th>\n",
       "      <th>Latitude</th>\n",
       "      <th>Longitude</th>\n",
       "    </tr>\n",
       "  </thead>\n",
       "  <tbody>\n",
       "    <tr>\n",
       "      <th>0</th>\n",
       "      <td>70173, 70174, 70176, 70178, 70180, 70182, 7018...</td>\n",
       "      <td>Stuttgart-Mitte</td>\n",
       "      <td>3.808</td>\n",
       "      <td>23956</td>\n",
       "      <td>48.775900</td>\n",
       "      <td>9.179800</td>\n",
       "    </tr>\n",
       "    <tr>\n",
       "      <th>1</th>\n",
       "      <td>70174, 70191, 70192, 70193</td>\n",
       "      <td>Stuttgart-Nord</td>\n",
       "      <td>6.815</td>\n",
       "      <td>27629</td>\n",
       "      <td>48.796661</td>\n",
       "      <td>9.176252</td>\n",
       "    </tr>\n",
       "    <tr>\n",
       "      <th>2</th>\n",
       "      <td>70184, 70186, 70188, 70190, 70327</td>\n",
       "      <td>Stuttgart-Ost</td>\n",
       "      <td>9.035</td>\n",
       "      <td>48730</td>\n",
       "      <td>48.776972</td>\n",
       "      <td>9.207365</td>\n",
       "    </tr>\n",
       "    <tr>\n",
       "      <th>3</th>\n",
       "      <td>70178, 70180, 70184, 70199</td>\n",
       "      <td>Stuttgart-Süd</td>\n",
       "      <td>9.586</td>\n",
       "      <td>44050</td>\n",
       "      <td>48.753021</td>\n",
       "      <td>9.132492</td>\n",
       "    </tr>\n",
       "    <tr>\n",
       "      <th>4</th>\n",
       "      <td>70174, 70176, 70178, 70193, 70197</td>\n",
       "      <td>Stuttgart-West</td>\n",
       "      <td>18.643</td>\n",
       "      <td>52668</td>\n",
       "      <td>48.777659</td>\n",
       "      <td>9.151351</td>\n",
       "    </tr>\n",
       "    <tr>\n",
       "      <th>5</th>\n",
       "      <td>70191, 70372, 70374, 70376, 70378</td>\n",
       "      <td>Bad Cannstatt</td>\n",
       "      <td>15.713</td>\n",
       "      <td>71285</td>\n",
       "      <td>48.804883</td>\n",
       "      <td>9.214680</td>\n",
       "    </tr>\n",
       "    <tr>\n",
       "      <th>6</th>\n",
       "      <td>70599</td>\n",
       "      <td>Birkach</td>\n",
       "      <td>3.089</td>\n",
       "      <td>7149</td>\n",
       "      <td>48.728574</td>\n",
       "      <td>9.203406</td>\n",
       "    </tr>\n",
       "    <tr>\n",
       "      <th>7</th>\n",
       "      <td>70195</td>\n",
       "      <td>Botnang</td>\n",
       "      <td>2.135</td>\n",
       "      <td>13165</td>\n",
       "      <td>48.778495</td>\n",
       "      <td>9.129532</td>\n",
       "    </tr>\n",
       "    <tr>\n",
       "      <th>8</th>\n",
       "      <td>70597</td>\n",
       "      <td>Degerloch</td>\n",
       "      <td>8.021</td>\n",
       "      <td>16686</td>\n",
       "      <td>48.749597</td>\n",
       "      <td>9.170345</td>\n",
       "    </tr>\n",
       "    <tr>\n",
       "      <th>9</th>\n",
       "      <td>70192, 70469, 70499</td>\n",
       "      <td>Feuerbach</td>\n",
       "      <td>11.554</td>\n",
       "      <td>30417</td>\n",
       "      <td>48.812305</td>\n",
       "      <td>9.159031</td>\n",
       "    </tr>\n",
       "    <tr>\n",
       "      <th>10</th>\n",
       "      <td>70327, 70329</td>\n",
       "      <td>Hedelfingen</td>\n",
       "      <td>7.324</td>\n",
       "      <td>10296</td>\n",
       "      <td>48.756436</td>\n",
       "      <td>9.252665</td>\n",
       "    </tr>\n",
       "    <tr>\n",
       "      <th>11</th>\n",
       "      <td>70565, 70567, 70597</td>\n",
       "      <td>Möhringen</td>\n",
       "      <td>15.044</td>\n",
       "      <td>33094</td>\n",
       "      <td>48.727816</td>\n",
       "      <td>9.147792</td>\n",
       "    </tr>\n",
       "    <tr>\n",
       "      <th>12</th>\n",
       "      <td>70378</td>\n",
       "      <td>Mühlhausen</td>\n",
       "      <td>9.120</td>\n",
       "      <td>25675</td>\n",
       "      <td>48.845610</td>\n",
       "      <td>9.226179</td>\n",
       "    </tr>\n",
       "    <tr>\n",
       "      <th>13</th>\n",
       "      <td>70376</td>\n",
       "      <td>Münster</td>\n",
       "      <td>2.210</td>\n",
       "      <td>6796</td>\n",
       "      <td>48.821296</td>\n",
       "      <td>9.220002</td>\n",
       "    </tr>\n",
       "    <tr>\n",
       "      <th>14</th>\n",
       "      <td>70329</td>\n",
       "      <td>Obertürkheim</td>\n",
       "      <td>5.462</td>\n",
       "      <td>8648</td>\n",
       "      <td>48.764789</td>\n",
       "      <td>9.268515</td>\n",
       "    </tr>\n",
       "    <tr>\n",
       "      <th>15</th>\n",
       "      <td>70599</td>\n",
       "      <td>Plieningen</td>\n",
       "      <td>13.075</td>\n",
       "      <td>13397</td>\n",
       "      <td>48.711395</td>\n",
       "      <td>9.198991</td>\n",
       "    </tr>\n",
       "    <tr>\n",
       "      <th>16</th>\n",
       "      <td>70619</td>\n",
       "      <td>Sillenbuch</td>\n",
       "      <td>7.457</td>\n",
       "      <td>24067</td>\n",
       "      <td>48.742184</td>\n",
       "      <td>9.222216</td>\n",
       "    </tr>\n",
       "    <tr>\n",
       "      <th>17</th>\n",
       "      <td>70435, 70439</td>\n",
       "      <td>Stammheim</td>\n",
       "      <td>4.334</td>\n",
       "      <td>12502</td>\n",
       "      <td>48.849798</td>\n",
       "      <td>9.157305</td>\n",
       "    </tr>\n",
       "    <tr>\n",
       "      <th>18</th>\n",
       "      <td>70327</td>\n",
       "      <td>Untertürkheim</td>\n",
       "      <td>6.055</td>\n",
       "      <td>16694</td>\n",
       "      <td>48.780200</td>\n",
       "      <td>9.250900</td>\n",
       "    </tr>\n",
       "    <tr>\n",
       "      <th>19</th>\n",
       "      <td>70563, 70565, 70569</td>\n",
       "      <td>Vaihingen</td>\n",
       "      <td>20.893</td>\n",
       "      <td>48835</td>\n",
       "      <td>48.734429</td>\n",
       "      <td>9.088648</td>\n",
       "    </tr>\n",
       "    <tr>\n",
       "      <th>20</th>\n",
       "      <td>70327</td>\n",
       "      <td>Wangen</td>\n",
       "      <td>3.426</td>\n",
       "      <td>9255</td>\n",
       "      <td>48.771985</td>\n",
       "      <td>9.244927</td>\n",
       "    </tr>\n",
       "    <tr>\n",
       "      <th>21</th>\n",
       "      <td>70499</td>\n",
       "      <td>Weilimdorf</td>\n",
       "      <td>12.585</td>\n",
       "      <td>31873</td>\n",
       "      <td>48.815276</td>\n",
       "      <td>9.112444</td>\n",
       "    </tr>\n",
       "    <tr>\n",
       "      <th>22</th>\n",
       "      <td>70376, 70435, 70437, 70439, 70469</td>\n",
       "      <td>Zuffenhausen</td>\n",
       "      <td>11.963</td>\n",
       "      <td>38676</td>\n",
       "      <td>48.831299</td>\n",
       "      <td>9.167440</td>\n",
       "    </tr>\n",
       "  </tbody>\n",
       "</table>\n",
       "</div>"
      ],
      "text/plain": [
       "                                            Post Code          Borough  \\\n",
       "0   70173, 70174, 70176, 70178, 70180, 70182, 7018...  Stuttgart-Mitte   \n",
       "1                          70174, 70191, 70192, 70193   Stuttgart-Nord   \n",
       "2                   70184, 70186, 70188, 70190, 70327    Stuttgart-Ost   \n",
       "3                          70178, 70180, 70184, 70199    Stuttgart-Süd   \n",
       "4                   70174, 70176, 70178, 70193, 70197   Stuttgart-West   \n",
       "5                   70191, 70372, 70374, 70376, 70378    Bad Cannstatt   \n",
       "6                                               70599          Birkach   \n",
       "7                                               70195          Botnang   \n",
       "8                                               70597        Degerloch   \n",
       "9                                 70192, 70469, 70499        Feuerbach   \n",
       "10                                       70327, 70329      Hedelfingen   \n",
       "11                                70565, 70567, 70597        Möhringen   \n",
       "12                                              70378       Mühlhausen   \n",
       "13                                              70376          Münster   \n",
       "14                                              70329     Obertürkheim   \n",
       "15                                              70599       Plieningen   \n",
       "16                                              70619       Sillenbuch   \n",
       "17                                       70435, 70439        Stammheim   \n",
       "18                                              70327    Untertürkheim   \n",
       "19                                70563, 70565, 70569        Vaihingen   \n",
       "20                                              70327           Wangen   \n",
       "21                                              70499       Weilimdorf   \n",
       "22                  70376, 70435, 70437, 70439, 70469     Zuffenhausen   \n",
       "\n",
       "    Area [km2]  Population   Latitude  Longitude  \n",
       "0        3.808       23956  48.775900   9.179800  \n",
       "1        6.815       27629  48.796661   9.176252  \n",
       "2        9.035       48730  48.776972   9.207365  \n",
       "3        9.586       44050  48.753021   9.132492  \n",
       "4       18.643       52668  48.777659   9.151351  \n",
       "5       15.713       71285  48.804883   9.214680  \n",
       "6        3.089        7149  48.728574   9.203406  \n",
       "7        2.135       13165  48.778495   9.129532  \n",
       "8        8.021       16686  48.749597   9.170345  \n",
       "9       11.554       30417  48.812305   9.159031  \n",
       "10       7.324       10296  48.756436   9.252665  \n",
       "11      15.044       33094  48.727816   9.147792  \n",
       "12       9.120       25675  48.845610   9.226179  \n",
       "13       2.210        6796  48.821296   9.220002  \n",
       "14       5.462        8648  48.764789   9.268515  \n",
       "15      13.075       13397  48.711395   9.198991  \n",
       "16       7.457       24067  48.742184   9.222216  \n",
       "17       4.334       12502  48.849798   9.157305  \n",
       "18       6.055       16694  48.780200   9.250900  \n",
       "19      20.893       48835  48.734429   9.088648  \n",
       "20       3.426        9255  48.771985   9.244927  \n",
       "21      12.585       31873  48.815276   9.112444  \n",
       "22      11.963       38676  48.831299   9.167440  "
      ]
     },
     "execution_count": 45,
     "metadata": {},
     "output_type": "execute_result"
    }
   ],
   "source": [
    "stuttgart = stuttgart[['Post Code', 'Borough', 'Area [km2]', 'Population', 'Latitude', 'Longitude']]\n",
    "stuttgart"
   ]
  },
  {
   "cell_type": "markdown",
   "metadata": {},
   "source": [
    "## Let us compare this two cities"
   ]
  },
  {
   "cell_type": "code",
   "execution_count": 46,
   "metadata": {},
   "outputs": [
    {
     "data": {
      "text/html": [
       "<div>\n",
       "<style scoped>\n",
       "    .dataframe tbody tr th:only-of-type {\n",
       "        vertical-align: middle;\n",
       "    }\n",
       "\n",
       "    .dataframe tbody tr th {\n",
       "        vertical-align: top;\n",
       "    }\n",
       "\n",
       "    .dataframe thead th {\n",
       "        text-align: right;\n",
       "    }\n",
       "</style>\n",
       "<table border=\"1\" class=\"dataframe\">\n",
       "  <thead>\n",
       "    <tr style=\"text-align: right;\">\n",
       "      <th></th>\n",
       "      <th>Area [km2]</th>\n",
       "      <th>Population</th>\n",
       "      <th>Latitude</th>\n",
       "      <th>Longitude</th>\n",
       "    </tr>\n",
       "  </thead>\n",
       "  <tbody>\n",
       "    <tr>\n",
       "      <th>count</th>\n",
       "      <td>23.000000</td>\n",
       "      <td>23.00000</td>\n",
       "      <td>23.000000</td>\n",
       "      <td>23.000000</td>\n",
       "    </tr>\n",
       "    <tr>\n",
       "      <th>mean</th>\n",
       "      <td>9.015087</td>\n",
       "      <td>26762.73913</td>\n",
       "      <td>48.778547</td>\n",
       "      <td>9.186186</td>\n",
       "    </tr>\n",
       "    <tr>\n",
       "      <th>std</th>\n",
       "      <td>5.227646</td>\n",
       "      <td>17346.05574</td>\n",
       "      <td>0.038593</td>\n",
       "      <td>0.047979</td>\n",
       "    </tr>\n",
       "    <tr>\n",
       "      <th>min</th>\n",
       "      <td>2.135000</td>\n",
       "      <td>6796.00000</td>\n",
       "      <td>48.711395</td>\n",
       "      <td>9.088648</td>\n",
       "    </tr>\n",
       "    <tr>\n",
       "      <th>25%</th>\n",
       "      <td>4.898000</td>\n",
       "      <td>12833.50000</td>\n",
       "      <td>48.751309</td>\n",
       "      <td>9.154328</td>\n",
       "    </tr>\n",
       "    <tr>\n",
       "      <th>50%</th>\n",
       "      <td>8.021000</td>\n",
       "      <td>24067.00000</td>\n",
       "      <td>48.776972</td>\n",
       "      <td>9.179800</td>\n",
       "    </tr>\n",
       "    <tr>\n",
       "      <th>75%</th>\n",
       "      <td>12.274000</td>\n",
       "      <td>35885.00000</td>\n",
       "      <td>48.808594</td>\n",
       "      <td>9.221109</td>\n",
       "    </tr>\n",
       "    <tr>\n",
       "      <th>max</th>\n",
       "      <td>20.893000</td>\n",
       "      <td>71285.00000</td>\n",
       "      <td>48.849798</td>\n",
       "      <td>9.268515</td>\n",
       "    </tr>\n",
       "  </tbody>\n",
       "</table>\n",
       "</div>"
      ],
      "text/plain": [
       "       Area [km2]   Population   Latitude  Longitude\n",
       "count   23.000000     23.00000  23.000000  23.000000\n",
       "mean     9.015087  26762.73913  48.778547   9.186186\n",
       "std      5.227646  17346.05574   0.038593   0.047979\n",
       "min      2.135000   6796.00000  48.711395   9.088648\n",
       "25%      4.898000  12833.50000  48.751309   9.154328\n",
       "50%      8.021000  24067.00000  48.776972   9.179800\n",
       "75%     12.274000  35885.00000  48.808594   9.221109\n",
       "max     20.893000  71285.00000  48.849798   9.268515"
      ]
     },
     "execution_count": 46,
     "metadata": {},
     "output_type": "execute_result"
    }
   ],
   "source": [
    "stuttgart.describe()"
   ]
  },
  {
   "cell_type": "code",
   "execution_count": 47,
   "metadata": {},
   "outputs": [
    {
     "data": {
      "text/html": [
       "<div>\n",
       "<style scoped>\n",
       "    .dataframe tbody tr th:only-of-type {\n",
       "        vertical-align: middle;\n",
       "    }\n",
       "\n",
       "    .dataframe tbody tr th {\n",
       "        vertical-align: top;\n",
       "    }\n",
       "\n",
       "    .dataframe thead th {\n",
       "        text-align: right;\n",
       "    }\n",
       "</style>\n",
       "<table border=\"1\" class=\"dataframe\">\n",
       "  <thead>\n",
       "    <tr style=\"text-align: right;\">\n",
       "      <th></th>\n",
       "      <th>Area [km2]</th>\n",
       "      <th>Population</th>\n",
       "      <th>Latitude</th>\n",
       "      <th>Longitude</th>\n",
       "    </tr>\n",
       "  </thead>\n",
       "  <tbody>\n",
       "    <tr>\n",
       "      <th>count</th>\n",
       "      <td>17.000000</td>\n",
       "      <td>17.000000</td>\n",
       "      <td>17.000000</td>\n",
       "      <td>17.000000</td>\n",
       "    </tr>\n",
       "    <tr>\n",
       "      <th>mean</th>\n",
       "      <td>7.504118</td>\n",
       "      <td>16863.882353</td>\n",
       "      <td>47.069096</td>\n",
       "      <td>15.439408</td>\n",
       "    </tr>\n",
       "    <tr>\n",
       "      <th>std</th>\n",
       "      <td>4.495399</td>\n",
       "      <td>8570.006395</td>\n",
       "      <td>0.023491</td>\n",
       "      <td>0.030250</td>\n",
       "    </tr>\n",
       "    <tr>\n",
       "      <th>min</th>\n",
       "      <td>1.160000</td>\n",
       "      <td>3899.000000</td>\n",
       "      <td>47.027102</td>\n",
       "      <td>15.394168</td>\n",
       "    </tr>\n",
       "    <tr>\n",
       "      <th>25%</th>\n",
       "      <td>4.480000</td>\n",
       "      <td>11129.000000</td>\n",
       "      <td>47.058701</td>\n",
       "      <td>15.420325</td>\n",
       "    </tr>\n",
       "    <tr>\n",
       "      <th>50%</th>\n",
       "      <td>6.180000</td>\n",
       "      <td>15630.000000</td>\n",
       "      <td>47.068287</td>\n",
       "      <td>15.438466</td>\n",
       "    </tr>\n",
       "    <tr>\n",
       "      <th>75%</th>\n",
       "      <td>10.160000</td>\n",
       "      <td>20553.000000</td>\n",
       "      <td>47.084668</td>\n",
       "      <td>15.456344</td>\n",
       "    </tr>\n",
       "    <tr>\n",
       "      <th>max</th>\n",
       "      <td>18.470000</td>\n",
       "      <td>33283.000000</td>\n",
       "      <td>47.114287</td>\n",
       "      <td>15.497180</td>\n",
       "    </tr>\n",
       "  </tbody>\n",
       "</table>\n",
       "</div>"
      ],
      "text/plain": [
       "       Area [km2]    Population   Latitude  Longitude\n",
       "count   17.000000     17.000000  17.000000  17.000000\n",
       "mean     7.504118  16863.882353  47.069096  15.439408\n",
       "std      4.495399   8570.006395   0.023491   0.030250\n",
       "min      1.160000   3899.000000  47.027102  15.394168\n",
       "25%      4.480000  11129.000000  47.058701  15.420325\n",
       "50%      6.180000  15630.000000  47.068287  15.438466\n",
       "75%     10.160000  20553.000000  47.084668  15.456344\n",
       "max     18.470000  33283.000000  47.114287  15.497180"
      ]
     },
     "execution_count": 47,
     "metadata": {},
     "output_type": "execute_result"
    }
   ],
   "source": [
    "graz.describe()"
   ]
  },
  {
   "cell_type": "markdown",
   "metadata": {},
   "source": [
    "__So what is the difference in area of this two cities__"
   ]
  },
  {
   "cell_type": "code",
   "execution_count": 48,
   "metadata": {},
   "outputs": [
    {
     "name": "stdout",
     "output_type": "stream",
     "text": [
      "Area of Stuttgart is 207.347 km2\n",
      "Area of Graz is 127.57 km2\n"
     ]
    }
   ],
   "source": [
    "print(\"Area of Stuttgart is \" + str(stuttgart['Area [km2]'].sum()) +  \" km2\")\n",
    "print(\"Area of Graz is \" + str(graz['Area [km2]'].sum()) +  \" km2\")"
   ]
  },
  {
   "cell_type": "code",
   "execution_count": 49,
   "metadata": {},
   "outputs": [
    {
     "name": "stdout",
     "output_type": "stream",
     "text": [
      "Area of Stuttgart is 1.63 times or 63.0% bigger than area of Graz\n"
     ]
    }
   ],
   "source": [
    "area_diff = round(stuttgart['Area [km2]'].sum()/ graz['Area [km2]'].sum(),2)\n",
    "print(\"Area of Stuttgart is \" + str(area_diff) + \" times or \" + str(round((area_diff-1)*100)) + \"% bigger than area of Graz\")"
   ]
  },
  {
   "cell_type": "markdown",
   "metadata": {},
   "source": [
    "__So what is the bigest and smallest borough in each city?__"
   ]
  },
  {
   "cell_type": "code",
   "execution_count": 50,
   "metadata": {},
   "outputs": [
    {
     "name": "stdout",
     "output_type": "stream",
     "text": [
      "Smallest area in Stuttgart is in Botnang with area of 2.135 km2\n",
      "Smallest area in Graz is in Innere Stadt with area of 1.16 km2\n"
     ]
    }
   ],
   "source": [
    "print(\"Smallest area in Stuttgart is in \" + stuttgart['Borough'].loc[stuttgart['Area [km2]'] == stuttgart['Area [km2]'].min()].values[0] + \" with area of \" + str(stuttgart['Area [km2]'].min()) + \" km2\")\n",
    "print(\"Smallest area in Graz is in \" + graz['Borough'].loc[graz['Area [km2]'] == graz['Area [km2]'].min()].values[0] + \" with area of \" + str(graz['Area [km2]'].min()) + \" km2\")"
   ]
  },
  {
   "cell_type": "code",
   "execution_count": 51,
   "metadata": {},
   "outputs": [
    {
     "name": "stdout",
     "output_type": "stream",
     "text": [
      "Biggest area in Stuttgart is in Vaihingen with area of 20.893 km2\n",
      "Biggest area in Graz is in Andritz with area of 18.47 km2\n"
     ]
    }
   ],
   "source": [
    "print(\"Biggest area in Stuttgart is in \" + stuttgart['Borough'].loc[stuttgart['Area [km2]'] == stuttgart['Area [km2]'].max()].values[0] + \" with area of \" + str(stuttgart['Area [km2]'].max()) + \" km2\")\n",
    "print(\"Biggest area in Graz is in \" + graz['Borough'].loc[graz['Area [km2]'] == graz['Area [km2]'].max()].values[0] + \" with area of \" + str(graz['Area [km2]'].max()) + \" km2\")"
   ]
  },
  {
   "cell_type": "markdown",
   "metadata": {},
   "source": [
    "__How many people live in each town?__"
   ]
  },
  {
   "cell_type": "code",
   "execution_count": 52,
   "metadata": {},
   "outputs": [
    {
     "name": "stdout",
     "output_type": "stream",
     "text": [
      "In Stuttgart lives 615 543 people\n",
      "In Graz lives 286 686 people\n"
     ]
    }
   ],
   "source": [
    "print(\"In Stuttgart lives \" + str(\"{:,} people\".format(stuttgart['Population'].sum())).replace(\",\",\" \"))\n",
    "print(\"In Graz lives \" + str(\"{:,} people\".format(graz['Population'].sum())).replace(\",\",\" \"))"
   ]
  },
  {
   "cell_type": "code",
   "execution_count": 53,
   "metadata": {},
   "outputs": [
    {
     "name": "stdout",
     "output_type": "stream",
     "text": [
      "So most populated area of Stuttgart is Bad Cannstatt with population of 71 285\n",
      "So most populated area of Graz is Jakomini with population of 33 283\n"
     ]
    }
   ],
   "source": [
    "print(\"So most populated area of Stuttgart is {} with population of {:,}\".format(stuttgart['Borough'].loc[stuttgart['Population'] == stuttgart['Population'].max()].values[0], stuttgart['Population'].max()).replace(\",\",\" \"))\n",
    "print(\"So most populated area of Graz is {} with population of {:,}\".format(graz['Borough'].loc[graz['Population'] == graz['Population'].max()].values[0], graz['Population'].max()).replace(\",\",\" \"))"
   ]
  },
  {
   "cell_type": "code",
   "execution_count": 54,
   "metadata": {},
   "outputs": [
    {
     "name": "stdout",
     "output_type": "stream",
     "text": [
      "So least populated area of Stuttgart is Münster with population of 6 796\n",
      "So least populated area of Graz is Innere Stadt with population of 3 899\n"
     ]
    }
   ],
   "source": [
    "print(\"So least populated area of Stuttgart is {} with population of {:,}\".format(stuttgart['Borough'].loc[stuttgart['Population'] == stuttgart['Population'].min()].values[0], stuttgart['Population'].min()).replace(\",\",\" \"))\n",
    "print(\"So least populated area of Graz is {} with population of {:,}\".format(graz['Borough'].loc[graz['Population'] == graz['Population'].min()].values[0], graz['Population'].min()).replace(\",\",\" \"))"
   ]
  },
  {
   "cell_type": "markdown",
   "metadata": {},
   "source": [
    "__One interesting aspect is also population density of the area__"
   ]
  },
  {
   "cell_type": "code",
   "execution_count": 55,
   "metadata": {},
   "outputs": [],
   "source": [
    "# Density of stuttgart\n",
    "stuttgart['Population/km2'] = stuttgart['Population']/stuttgart['Area [km2]']"
   ]
  },
  {
   "cell_type": "code",
   "execution_count": 56,
   "metadata": {},
   "outputs": [],
   "source": [
    "#Density of Graz\n",
    "graz['Population/km2'] = graz['Population']/graz['Area [km2]']"
   ]
  },
  {
   "cell_type": "code",
   "execution_count": 57,
   "metadata": {},
   "outputs": [
    {
     "data": {
      "text/html": [
       "<div>\n",
       "<style scoped>\n",
       "    .dataframe tbody tr th:only-of-type {\n",
       "        vertical-align: middle;\n",
       "    }\n",
       "\n",
       "    .dataframe tbody tr th {\n",
       "        vertical-align: top;\n",
       "    }\n",
       "\n",
       "    .dataframe thead th {\n",
       "        text-align: right;\n",
       "    }\n",
       "</style>\n",
       "<table border=\"1\" class=\"dataframe\">\n",
       "  <thead>\n",
       "    <tr style=\"text-align: right;\">\n",
       "      <th></th>\n",
       "      <th>Post Code</th>\n",
       "      <th>Borough</th>\n",
       "      <th>Area [km2]</th>\n",
       "      <th>Population</th>\n",
       "      <th>Latitude</th>\n",
       "      <th>Longitude</th>\n",
       "      <th>Population/km2</th>\n",
       "    </tr>\n",
       "  </thead>\n",
       "  <tbody>\n",
       "    <tr>\n",
       "      <th>0</th>\n",
       "      <td>8010</td>\n",
       "      <td>Innere Stadt</td>\n",
       "      <td>1.16</td>\n",
       "      <td>3899</td>\n",
       "      <td>47.074261</td>\n",
       "      <td>15.438466</td>\n",
       "      <td>3361.206897</td>\n",
       "    </tr>\n",
       "    <tr>\n",
       "      <th>1</th>\n",
       "      <td>8010</td>\n",
       "      <td>St. Leonhard</td>\n",
       "      <td>1.83</td>\n",
       "      <td>16235</td>\n",
       "      <td>47.068287</td>\n",
       "      <td>15.456344</td>\n",
       "      <td>8871.584699</td>\n",
       "    </tr>\n",
       "    <tr>\n",
       "      <th>2</th>\n",
       "      <td>8010</td>\n",
       "      <td>Geidorf</td>\n",
       "      <td>5.50</td>\n",
       "      <td>25300</td>\n",
       "      <td>47.084668</td>\n",
       "      <td>15.442896</td>\n",
       "      <td>4600.000000</td>\n",
       "    </tr>\n",
       "    <tr>\n",
       "      <th>3</th>\n",
       "      <td>8020</td>\n",
       "      <td>Lend</td>\n",
       "      <td>3.70</td>\n",
       "      <td>30966</td>\n",
       "      <td>47.079675</td>\n",
       "      <td>15.420325</td>\n",
       "      <td>8369.189189</td>\n",
       "    </tr>\n",
       "    <tr>\n",
       "      <th>4</th>\n",
       "      <td>8020</td>\n",
       "      <td>Gries</td>\n",
       "      <td>5.05</td>\n",
       "      <td>28735</td>\n",
       "      <td>47.061222</td>\n",
       "      <td>15.427370</td>\n",
       "      <td>5690.099010</td>\n",
       "    </tr>\n",
       "    <tr>\n",
       "      <th>5</th>\n",
       "      <td>8010</td>\n",
       "      <td>Jakomini</td>\n",
       "      <td>4.06</td>\n",
       "      <td>33283</td>\n",
       "      <td>47.059623</td>\n",
       "      <td>15.444707</td>\n",
       "      <td>8197.783251</td>\n",
       "    </tr>\n",
       "    <tr>\n",
       "      <th>6</th>\n",
       "      <td>8041</td>\n",
       "      <td>Liebenau</td>\n",
       "      <td>7.99</td>\n",
       "      <td>14417</td>\n",
       "      <td>47.040169</td>\n",
       "      <td>15.449265</td>\n",
       "      <td>1804.380476</td>\n",
       "    </tr>\n",
       "    <tr>\n",
       "      <th>7</th>\n",
       "      <td>8042</td>\n",
       "      <td>St. Peter</td>\n",
       "      <td>8.86</td>\n",
       "      <td>15139</td>\n",
       "      <td>47.058701</td>\n",
       "      <td>15.469985</td>\n",
       "      <td>1708.690745</td>\n",
       "    </tr>\n",
       "    <tr>\n",
       "      <th>8</th>\n",
       "      <td>8010</td>\n",
       "      <td>Waltendorf</td>\n",
       "      <td>4.48</td>\n",
       "      <td>11906</td>\n",
       "      <td>47.067741</td>\n",
       "      <td>15.477172</td>\n",
       "      <td>2657.589286</td>\n",
       "    </tr>\n",
       "    <tr>\n",
       "      <th>9</th>\n",
       "      <td>8010</td>\n",
       "      <td>Ries</td>\n",
       "      <td>10.16</td>\n",
       "      <td>5910</td>\n",
       "      <td>47.088113</td>\n",
       "      <td>15.497180</td>\n",
       "      <td>581.692913</td>\n",
       "    </tr>\n",
       "    <tr>\n",
       "      <th>10</th>\n",
       "      <td>8043</td>\n",
       "      <td>Mariatrost</td>\n",
       "      <td>13.99</td>\n",
       "      <td>9756</td>\n",
       "      <td>47.101685</td>\n",
       "      <td>15.480090</td>\n",
       "      <td>697.355254</td>\n",
       "    </tr>\n",
       "    <tr>\n",
       "      <th>11</th>\n",
       "      <td>8045</td>\n",
       "      <td>Andritz</td>\n",
       "      <td>18.47</td>\n",
       "      <td>19197</td>\n",
       "      <td>47.114287</td>\n",
       "      <td>15.430750</td>\n",
       "      <td>1039.361126</td>\n",
       "    </tr>\n",
       "    <tr>\n",
       "      <th>12</th>\n",
       "      <td>8051</td>\n",
       "      <td>Gösting</td>\n",
       "      <td>10.83</td>\n",
       "      <td>11129</td>\n",
       "      <td>47.093699</td>\n",
       "      <td>15.401919</td>\n",
       "      <td>1027.608495</td>\n",
       "    </tr>\n",
       "    <tr>\n",
       "      <th>13</th>\n",
       "      <td>8020</td>\n",
       "      <td>Eggenberg</td>\n",
       "      <td>7.79</td>\n",
       "      <td>20553</td>\n",
       "      <td>47.070301</td>\n",
       "      <td>15.397771</td>\n",
       "      <td>2638.382542</td>\n",
       "    </tr>\n",
       "    <tr>\n",
       "      <th>14</th>\n",
       "      <td>8052</td>\n",
       "      <td>Wetzelsdorf</td>\n",
       "      <td>5.77</td>\n",
       "      <td>15630</td>\n",
       "      <td>47.049721</td>\n",
       "      <td>15.394168</td>\n",
       "      <td>2708.838821</td>\n",
       "    </tr>\n",
       "    <tr>\n",
       "      <th>15</th>\n",
       "      <td>8054</td>\n",
       "      <td>Straßgang</td>\n",
       "      <td>11.75</td>\n",
       "      <td>16003</td>\n",
       "      <td>47.035373</td>\n",
       "      <td>15.406673</td>\n",
       "      <td>1361.957447</td>\n",
       "    </tr>\n",
       "    <tr>\n",
       "      <th>16</th>\n",
       "      <td>8055</td>\n",
       "      <td>Puntigam</td>\n",
       "      <td>6.18</td>\n",
       "      <td>8628</td>\n",
       "      <td>47.027102</td>\n",
       "      <td>15.434848</td>\n",
       "      <td>1396.116505</td>\n",
       "    </tr>\n",
       "  </tbody>\n",
       "</table>\n",
       "</div>"
      ],
      "text/plain": [
       "   Post Code       Borough  Area [km2]  Population   Latitude  Longitude  \\\n",
       "0       8010  Innere Stadt        1.16        3899  47.074261  15.438466   \n",
       "1       8010  St. Leonhard        1.83       16235  47.068287  15.456344   \n",
       "2       8010       Geidorf        5.50       25300  47.084668  15.442896   \n",
       "3       8020          Lend        3.70       30966  47.079675  15.420325   \n",
       "4       8020         Gries        5.05       28735  47.061222  15.427370   \n",
       "5       8010      Jakomini        4.06       33283  47.059623  15.444707   \n",
       "6       8041      Liebenau        7.99       14417  47.040169  15.449265   \n",
       "7       8042     St. Peter        8.86       15139  47.058701  15.469985   \n",
       "8       8010    Waltendorf        4.48       11906  47.067741  15.477172   \n",
       "9       8010          Ries       10.16        5910  47.088113  15.497180   \n",
       "10      8043    Mariatrost       13.99        9756  47.101685  15.480090   \n",
       "11      8045       Andritz       18.47       19197  47.114287  15.430750   \n",
       "12      8051       Gösting       10.83       11129  47.093699  15.401919   \n",
       "13      8020     Eggenberg        7.79       20553  47.070301  15.397771   \n",
       "14      8052   Wetzelsdorf        5.77       15630  47.049721  15.394168   \n",
       "15      8054     Straßgang       11.75       16003  47.035373  15.406673   \n",
       "16      8055      Puntigam        6.18        8628  47.027102  15.434848   \n",
       "\n",
       "    Population/km2  \n",
       "0      3361.206897  \n",
       "1      8871.584699  \n",
       "2      4600.000000  \n",
       "3      8369.189189  \n",
       "4      5690.099010  \n",
       "5      8197.783251  \n",
       "6      1804.380476  \n",
       "7      1708.690745  \n",
       "8      2657.589286  \n",
       "9       581.692913  \n",
       "10      697.355254  \n",
       "11     1039.361126  \n",
       "12     1027.608495  \n",
       "13     2638.382542  \n",
       "14     2708.838821  \n",
       "15     1361.957447  \n",
       "16     1396.116505  "
      ]
     },
     "execution_count": 57,
     "metadata": {},
     "output_type": "execute_result"
    }
   ],
   "source": [
    "graz"
   ]
  },
  {
   "cell_type": "markdown",
   "metadata": {},
   "source": [
    "## Creating the maps of Graz and Stuttgart"
   ]
  },
  {
   "cell_type": "code",
   "execution_count": 58,
   "metadata": {},
   "outputs": [],
   "source": [
    "import folium #import Folium to create the map"
   ]
  },
  {
   "cell_type": "markdown",
   "metadata": {},
   "source": [
    "__Creating the map of Graz__"
   ]
  },
  {
   "cell_type": "code",
   "execution_count": null,
   "metadata": {},
   "outputs": [],
   "source": []
  },
  {
   "cell_type": "code",
   "execution_count": 76,
   "metadata": {},
   "outputs": [],
   "source": [
    "#geting the coordinates of Graz\n",
    "\n",
    "def draw_a_map(city, city_name, country):\n",
    "    loc = locator.geocode(city_name + ', ' + country)\n",
    "\n",
    "    # creating a map of Graz usin latitude and longitude values\n",
    "    map = folium.Map(location=[loc.latitude, loc.longitude], zoom_start=12)\n",
    "\n",
    "    # add markers on map\n",
    "    for lat, log, borough in zip(city['Latitude'], city['Longitude'], city['Borough']):\n",
    "        borough = borough.replace(\"ä\",\"a\")\n",
    "        borough = borough.replace(\"ü\",\"u\")\n",
    "        borough = borough.replace(\"ö\",\"o\")\n",
    "        borough = borough.replace(\"ß\",\"ss\")\n",
    "        label = \"{}, {}\".format(borough, city_name)\n",
    "        label = folium.Popup(label, parse_html=True)\n",
    "        folium.CircleMarker(\n",
    "            [lat, log],\n",
    "            radius=15,\n",
    "            popup=label,\n",
    "            color='blue',\n",
    "            fill=True,\n",
    "            fill_color='#3186cc',\n",
    "            fill_opacity=0.7,\n",
    "            parse_html=False).add_to(map)\n",
    "\n",
    "    folium.Marker(\n",
    "            [location.latitude, location.longitude],\n",
    "            popup=label).add_to(map)\n",
    "    return map"
   ]
  },
  {
   "cell_type": "code",
   "execution_count": 77,
   "metadata": {},
   "outputs": [],
   "source": [
    "graz_map = draw_a_map(graz, 'Graz', 'Austria')"
   ]
  },
  {
   "cell_type": "code",
   "execution_count": 78,
   "metadata": {},
   "outputs": [
    {
     "data": {
      "text/html": [
       "<div style=\"width:100%;\"><div style=\"position:relative;width:100%;height:0;padding-bottom:60%;\"><span style=\"color:#565656\">Make this Notebook Trusted to load map: File -> Trust Notebook</span><iframe src=\"about:blank\" style=\"position:absolute;width:100%;height:100%;left:0;top:0;border:none !important;\" data-html=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 onload=\"this.contentDocument.open();this.contentDocument.write(atob(this.getAttribute('data-html')));this.contentDocument.close();\" allowfullscreen webkitallowfullscreen mozallowfullscreen></iframe></div></div>"
      ],
      "text/plain": [
       "<folium.folium.Map at 0x231370e7dd8>"
      ]
     },
     "execution_count": 78,
     "metadata": {},
     "output_type": "execute_result"
    }
   ],
   "source": [
    "graz_map"
   ]
  },
  {
   "cell_type": "code",
   "execution_count": 79,
   "metadata": {},
   "outputs": [],
   "source": [
    "stuttgart_map = draw_a_map(stuttgart, 'Stuttgart', 'Germany')"
   ]
  },
  {
   "cell_type": "code",
   "execution_count": 83,
   "metadata": {
    "scrolled": false
   },
   "outputs": [
    {
     "data": {
      "text/html": [
       "<div style=\"width:100%;\"><div style=\"position:relative;width:100%;height:0;padding-bottom:60%;\"><span style=\"color:#565656\">Make this Notebook Trusted to load map: File -> Trust Notebook</span><iframe src=\"about:blank\" style=\"position:absolute;width:100%;height:100%;left:0;top:0;border:none !important;\" data-html=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 onload=\"this.contentDocument.open();this.contentDocument.write(atob(this.getAttribute('data-html')));this.contentDocument.close();\" allowfullscreen webkitallowfullscreen mozallowfullscreen></iframe></div></div>"
      ],
      "text/plain": [
       "<folium.folium.Map at 0x23137141d30>"
      ]
     },
     "execution_count": 83,
     "metadata": {},
     "output_type": "execute_result"
    }
   ],
   "source": [
    "stuttgart_map"
   ]
  },
  {
   "cell_type": "code",
   "execution_count": null,
   "metadata": {},
   "outputs": [],
   "source": []
  }
 ],
 "metadata": {
  "kernelspec": {
   "display_name": "Python 3",
   "language": "python",
   "name": "python3"
  },
  "language_info": {
   "codemirror_mode": {
    "name": "ipython",
    "version": 3
   },
   "file_extension": ".py",
   "mimetype": "text/x-python",
   "name": "python",
   "nbconvert_exporter": "python",
   "pygments_lexer": "ipython3",
   "version": "3.7.1"
  }
 },
 "nbformat": 4,
 "nbformat_minor": 2
}
